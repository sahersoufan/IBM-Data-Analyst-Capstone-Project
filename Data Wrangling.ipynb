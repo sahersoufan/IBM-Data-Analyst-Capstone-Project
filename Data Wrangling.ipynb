{
    "cells": [
        {
            "metadata": {},
            "cell_type": "markdown",
            "source": "<p style=\"text-align:center\">\n    <a href=\"https://skills.network/?utm_medium=Exinfluencer&utm_source=Exinfluencer&utm_content=000026UJ&utm_term=10006555&utm_id=NA-SkillsNetwork-Channel-SkillsNetworkCoursesIBMDA0321ENSkillsNetwork928-2022-01-01\" target=\"_blank\">\n    <img src=\"https://cf-courses-data.s3.us.cloud-object-storage.appdomain.cloud/assets/logos/SN_web_lightmode.png\" width=\"200\" alt=\"Skills Network Logo\"  />\n    </a>\n</p>\n"
        },
        {
            "metadata": {},
            "cell_type": "markdown",
            "source": "# **Data Wrangling Lab**\n"
        },
        {
            "metadata": {},
            "cell_type": "markdown",
            "source": "Estimated time needed: **45 to 60** minutes\n"
        },
        {
            "metadata": {},
            "cell_type": "markdown",
            "source": "In this assignment you will be performing data wrangling.\n"
        },
        {
            "metadata": {},
            "cell_type": "markdown",
            "source": "## Objectives\n"
        },
        {
            "metadata": {},
            "cell_type": "markdown",
            "source": "In this lab you will perform the following:\n"
        },
        {
            "metadata": {},
            "cell_type": "markdown",
            "source": "-   Identify duplicate values in the dataset.\n\n-   Remove duplicate values from the dataset.\n\n-   Identify missing values in the dataset.\n\n-   Impute the missing values in the dataset.\n\n-   Normalize data in the dataset.\n"
        },
        {
            "metadata": {},
            "cell_type": "markdown",
            "source": "<hr>\n"
        },
        {
            "metadata": {},
            "cell_type": "markdown",
            "source": "## Hands on Lab\n"
        },
        {
            "metadata": {},
            "cell_type": "markdown",
            "source": "Import pandas module.\n"
        },
        {
            "metadata": {},
            "cell_type": "code",
            "source": "import pandas as pd",
            "execution_count": 1,
            "outputs": []
        },
        {
            "metadata": {},
            "cell_type": "markdown",
            "source": "Load the dataset into a dataframe.\n"
        },
        {
            "metadata": {},
            "cell_type": "code",
            "source": "df = pd.read_csv(\"https://cf-courses-data.s3.us.cloud-object-storage.appdomain.cloud/IBM-DA0321EN-SkillsNetwork/LargeData/m1_survey_data.csv\")",
            "execution_count": 2,
            "outputs": []
        },
        {
            "metadata": {},
            "cell_type": "markdown",
            "source": "## Finding duplicates\n"
        },
        {
            "metadata": {},
            "cell_type": "markdown",
            "source": "In this section you will identify duplicate values in the dataset.\n"
        },
        {
            "metadata": {},
            "cell_type": "markdown",
            "source": " Find how many duplicate rows exist in the dataframe.\n"
        },
        {
            "metadata": {},
            "cell_type": "code",
            "source": "# your code goes here\ndf.duplicated().sum()",
            "execution_count": 3,
            "outputs": [
                {
                    "output_type": "execute_result",
                    "execution_count": 3,
                    "data": {
                        "text/plain": "154"
                    },
                    "metadata": {}
                }
            ]
        },
        {
            "metadata": {},
            "cell_type": "markdown",
            "source": "## Removing duplicates\n"
        },
        {
            "metadata": {},
            "cell_type": "markdown",
            "source": "Remove the duplicate rows from the dataframe.\n"
        },
        {
            "metadata": {},
            "cell_type": "code",
            "source": "# your code goes here\ndf.drop_duplicates(inplace=True)",
            "execution_count": 5,
            "outputs": []
        },
        {
            "metadata": {},
            "cell_type": "markdown",
            "source": "Verify if duplicates were actually dropped.\n"
        },
        {
            "metadata": {},
            "cell_type": "code",
            "source": "# your code goes here\ndf.duplicated().sum()",
            "execution_count": 6,
            "outputs": [
                {
                    "output_type": "execute_result",
                    "execution_count": 6,
                    "data": {
                        "text/plain": "0"
                    },
                    "metadata": {}
                }
            ]
        },
        {
            "metadata": {},
            "cell_type": "markdown",
            "source": "## Finding Missing values\n"
        },
        {
            "metadata": {},
            "cell_type": "markdown",
            "source": "Find the missing values for all columns.\n"
        },
        {
            "metadata": {},
            "cell_type": "code",
            "source": "# your code goes here\ndf.isna().sum()",
            "execution_count": 7,
            "outputs": [
                {
                    "output_type": "execute_result",
                    "execution_count": 7,
                    "data": {
                        "text/plain": "Respondent        0\nMainBranch        0\nHobbyist          0\nOpenSourcer       0\nOpenSource       81\n               ... \nSexuality       542\nEthnicity       675\nDependents      140\nSurveyLength     19\nSurveyEase       14\nLength: 85, dtype: int64"
                    },
                    "metadata": {}
                }
            ]
        },
        {
            "metadata": {},
            "cell_type": "markdown",
            "source": "Find out how many rows are missing in the column 'WorkLoc'\n"
        },
        {
            "metadata": {},
            "cell_type": "code",
            "source": "# your code goes here\ndf.WorkLoc.isna().sum()",
            "execution_count": 9,
            "outputs": [
                {
                    "output_type": "execute_result",
                    "execution_count": 9,
                    "data": {
                        "text/plain": "32"
                    },
                    "metadata": {}
                }
            ]
        },
        {
            "metadata": {},
            "cell_type": "markdown",
            "source": "## Imputing missing values\n"
        },
        {
            "metadata": {},
            "cell_type": "markdown",
            "source": "Find the  value counts for the column WorkLoc.\n"
        },
        {
            "metadata": {},
            "cell_type": "code",
            "source": "# your code goes here\ndf.WorkLoc.value_counts()",
            "execution_count": 10,
            "outputs": [
                {
                    "output_type": "execute_result",
                    "execution_count": 10,
                    "data": {
                        "text/plain": "Office                                            6806\nHome                                              3589\nOther place, such as a coworking space or cafe     971\nName: WorkLoc, dtype: int64"
                    },
                    "metadata": {}
                }
            ]
        },
        {
            "metadata": {},
            "cell_type": "markdown",
            "source": "Identify the value that is most frequent (majority) in the WorkLoc column.\n"
        },
        {
            "metadata": {},
            "cell_type": "markdown",
            "source": "make a note of the majority value here, for future reference\n\n**Offics** is the majority value in **WorkLoc** column"
        },
        {
            "metadata": {},
            "cell_type": "markdown",
            "source": "Impute (replace) all the empty rows in the column WorkLoc with the value that you have identified as majority.\n"
        },
        {
            "metadata": {},
            "cell_type": "code",
            "source": "# your code goes here\ndf.WorkLoc.fillna(str(df.WorkLoc.mode()), inplace=True)",
            "execution_count": 16,
            "outputs": []
        },
        {
            "metadata": {},
            "cell_type": "markdown",
            "source": "After imputation there should ideally not be any empty rows in the WorkLoc column.\n"
        },
        {
            "metadata": {},
            "cell_type": "markdown",
            "source": "Verify if imputing was successful.\n"
        },
        {
            "metadata": {},
            "cell_type": "code",
            "source": "# your code goes here\ndf.WorkLoc.isna().sum()",
            "execution_count": 17,
            "outputs": [
                {
                    "output_type": "execute_result",
                    "execution_count": 17,
                    "data": {
                        "text/plain": "0"
                    },
                    "metadata": {}
                }
            ]
        },
        {
            "metadata": {},
            "cell_type": "code",
            "source": "df.ConvertedComp.describe()",
            "execution_count": 34,
            "outputs": [
                {
                    "output_type": "execute_result",
                    "execution_count": 34,
                    "data": {
                        "text/plain": "count    1.058200e+04\nmean     1.315967e+05\nstd      2.947865e+05\nmin      0.000000e+00\n25%      2.686800e+04\n50%      5.774500e+04\n75%      1.000000e+05\nmax      2.000000e+06\nName: ConvertedComp, dtype: float64"
                    },
                    "metadata": {}
                }
            ]
        },
        {
            "metadata": {},
            "cell_type": "markdown",
            "source": "## Normalizing data\n"
        },
        {
            "metadata": {},
            "cell_type": "markdown",
            "source": "There are two columns in the dataset that talk about compensation.\n\nOne is \"CompFreq\". This column shows how often a developer is paid (Yearly, Monthly, Weekly).\n\nThe other is \"CompTotal\". This column talks about how much the developer is paid per Year, Month, or Week depending upon his/her \"CompFreq\". \n\nThis makes it difficult to compare the total compensation of the developers.\n\nIn this section you will create a new column called 'NormalizedAnnualCompensation' which contains the 'Annual Compensation' irrespective of the 'CompFreq'.\n\nOnce this column is ready, it makes comparison of salaries easy.\n"
        },
        {
            "metadata": {},
            "cell_type": "markdown",
            "source": "<hr>\n"
        },
        {
            "metadata": {},
            "cell_type": "markdown",
            "source": "List out the various categories in the column 'CompFreq'\n"
        },
        {
            "metadata": {},
            "cell_type": "code",
            "source": "# your code goes here\ndf.CompFreq.value_counts()",
            "execution_count": 18,
            "outputs": [
                {
                    "output_type": "execute_result",
                    "execution_count": 18,
                    "data": {
                        "text/plain": "Yearly     6073\nMonthly    4788\nWeekly      331\nName: CompFreq, dtype: int64"
                    },
                    "metadata": {}
                }
            ]
        },
        {
            "metadata": {},
            "cell_type": "markdown",
            "source": "Create a new column named 'NormalizedAnnualCompensation'. Use the hint given below if needed.\n"
        },
        {
            "metadata": {},
            "cell_type": "markdown",
            "source": "Double click to see the **Hint**.\n\n<!--\n\nUse the below logic to arrive at the values for the column NormalizedAnnualCompensation.\n\nIf the CompFreq is Yearly then use the exising value in CompTotal\nIf the CompFreq is Monthly then multiply the value in CompTotal with 12 (months in an year)\nIf the CompFreq is Weekly then multiply the value in CompTotal with 52 (weeks in an year)\n\n-->\n"
        },
        {
            "metadata": {},
            "cell_type": "code",
            "source": "# your code goes here\nfilter = lambda v1, v2: v1 if v2 == 'Yearly' else (v1 * 12 if v2 == 'Monthly' else v1 * 52 ) \ndf['NormalizedAnnualCompensation'] = df['CompTotal'].combine(df['CompFreq'], filter)",
            "execution_count": 21,
            "outputs": []
        },
        {
            "metadata": {},
            "cell_type": "code",
            "source": "df['NormalizedAnnualCompensation'].describe()",
            "execution_count": 37,
            "outputs": [
                {
                    "output_type": "execute_result",
                    "execution_count": 37,
                    "data": {
                        "text/plain": "count    1.058900e+04\nmean     6.170771e+06\nstd      9.842866e+07\nmin      0.000000e+00\n25%      5.200000e+04\n50%      1.000000e+05\n75%      3.600000e+05\nmax      8.400000e+09\nName: NormalizedAnnualCompensation, dtype: float64"
                    },
                    "metadata": {}
                }
            ]
        },
        {
            "metadata": {},
            "cell_type": "code",
            "source": "df.loc[df['CompFreq'] == 'Yearly']['Respondent']",
            "execution_count": 36,
            "outputs": [
                {
                    "output_type": "execute_result",
                    "execution_count": 36,
                    "data": {
                        "text/plain": "0            4\n1            9\n2           13\n4           17\n7           22\n         ...  \n11544    25128\n11547    25136\n11548    25137\n11549    25138\n11550    25141\nName: Respondent, Length: 6073, dtype: int64"
                    },
                    "metadata": {}
                }
            ]
        },
        {
            "metadata": {},
            "cell_type": "markdown",
            "source": "## Authors\n"
        },
        {
            "metadata": {},
            "cell_type": "markdown",
            "source": "Ramesh Sannareddy\n"
        },
        {
            "metadata": {},
            "cell_type": "markdown",
            "source": "### Other Contributors\n"
        },
        {
            "metadata": {},
            "cell_type": "markdown",
            "source": "Rav Ahuja\n"
        },
        {
            "metadata": {},
            "cell_type": "markdown",
            "source": "## Change Log\n"
        },
        {
            "metadata": {},
            "cell_type": "markdown",
            "source": "| Date (YYYY-MM-DD) | Version | Changed By        | Change Description                 |\n| ----------------- | ------- | ----------------- | ---------------------------------- |\n| 2020-10-17        | 0.1     | Ramesh Sannareddy | Created initial version of the lab |\n"
        },
        {
            "metadata": {},
            "cell_type": "markdown",
            "source": " Copyright \u00a9 2020 IBM Corporation. This notebook and its source code are released under the terms of the [MIT License](https://cognitiveclass.ai/mit-license?utm_medium=Exinfluencer&utm_source=Exinfluencer&utm_content=000026UJ&utm_term=10006555&utm_id=NA-SkillsNetwork-Channel-SkillsNetworkCoursesIBMDA0321ENSkillsNetwork928-2022-01-01&cm_mmc=Email_Newsletter-_-Developer_Ed%2BTech-_-WW_WW-_-SkillsNetwork-Courses-IBM-DA0321EN-SkillsNetwork-21426264&cm_mmca1=000026UJ&cm_mmca2=10006555&cm_mmca3=M12345678&cvosrc=email.Newsletter.M12345678&cvo_campaign=000026UJ).\n"
        }
    ],
    "metadata": {
        "kernelspec": {
            "name": "python3",
            "display_name": "Python 3.10",
            "language": "python"
        },
        "language_info": {
            "name": "python",
            "version": "3.10.6",
            "mimetype": "text/x-python",
            "codemirror_mode": {
                "name": "ipython",
                "version": 3
            },
            "pygments_lexer": "ipython3",
            "nbconvert_exporter": "python",
            "file_extension": ".py"
        }
    },
    "nbformat": 4,
    "nbformat_minor": 4
}