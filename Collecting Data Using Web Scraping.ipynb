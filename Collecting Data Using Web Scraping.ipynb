{
    "cells": [
        {
            "metadata": {},
            "cell_type": "markdown",
            "source": "<p style=\"text-align:center\">\n    <a href=\"https://skills.network/?utm_medium=Exinfluencer&utm_source=Exinfluencer&utm_content=000026UJ&utm_term=10006555&utm_id=NA-SkillsNetwork-Channel-SkillsNetworkCoursesIBMDA0321ENSkillsNetwork928-2022-01-01\" target=\"_blank\">\n    <img src=\"https://cf-courses-data.s3.us.cloud-object-storage.appdomain.cloud/assets/logos/SN_web_lightmode.png\" width=\"200\" alt=\"Skills Network Logo\"  />\n    </a>\n</p>\n"
        },
        {
            "metadata": {},
            "cell_type": "markdown",
            "source": "# **Web Scraping Lab**\n"
        },
        {
            "metadata": {},
            "cell_type": "markdown",
            "source": "Estimated time needed: **30** minutes\n"
        },
        {
            "metadata": {},
            "cell_type": "markdown",
            "source": "## Objectives\n"
        },
        {
            "metadata": {},
            "cell_type": "markdown",
            "source": "After completing this lab you will be able to:\n"
        },
        {
            "metadata": {},
            "cell_type": "markdown",
            "source": "* Download a webpage using requests module\n* Scrape all links from a web page\n* Scrape all image urls from a web page\n* Scrape data from html tables\n"
        },
        {
            "metadata": {},
            "cell_type": "markdown",
            "source": "## Scrape www.ibm.com\n"
        },
        {
            "metadata": {},
            "cell_type": "markdown",
            "source": "Import the required modules and functions\n"
        },
        {
            "metadata": {},
            "cell_type": "code",
            "source": "from bs4 import BeautifulSoup # this module helps in web scrapping.\nimport requests  # this module helps us to download a web page",
            "execution_count": 1,
            "outputs": []
        },
        {
            "metadata": {},
            "cell_type": "markdown",
            "source": "Download the contents of the web page\n"
        },
        {
            "metadata": {},
            "cell_type": "code",
            "source": "url = \"http://www.ibm.com\"",
            "execution_count": 2,
            "outputs": []
        },
        {
            "metadata": {},
            "cell_type": "code",
            "source": "# get the contents of the webpage in text format and store in a variable called data\ndata  = requests.get(url).text ",
            "execution_count": 3,
            "outputs": []
        },
        {
            "metadata": {},
            "cell_type": "markdown",
            "source": "Create a soup object using the class BeautifulSoup\n"
        },
        {
            "metadata": {},
            "cell_type": "code",
            "source": "soup = BeautifulSoup(data)  # create a soup object using the variable 'data'",
            "execution_count": 6,
            "outputs": []
        },
        {
            "metadata": {},
            "cell_type": "markdown",
            "source": "Scrape all links\n"
        },
        {
            "metadata": {},
            "cell_type": "code",
            "source": "for link in soup.find_all('a'):  # in html anchor/link is represented by the tag <a>\n    print(link.get('href'))",
            "execution_count": 7,
            "outputs": [
                {
                    "output_type": "stream",
                    "text": "https://www.ibm.com/thought-leadership/institute-business-value/en-us/report/2023-banking-financial-markets-outlook?lnk=hpenls1\n#3171776\n#3171802\n#3171808\n#3171812\n#3171828\n#3171834\nhttps://www.ibm.com/policy/technology-climate-change/?lnk=lnk%3Dhpennf1\n/uk-en/about\n#tab_3171780\n#tab_3171784\n#tab_3171788\n#tab_3171792\n#tab_3171796\n#tab_3171800\nhttps://www.ibm.com/consulting/?lnk=flathl\nhttps://www.ibm.com/consulting/strategy/?lnk=flathl\n/uk-en/consulting/ibmix?lnk=flathl\nhttps://www.ibm.com/consulting/technology/?lnk=flathl\n/uk-en/services/operations-consulting?lnk=flathl\n/strategic-partnerships?lnk=flathl\nhttps://www.ibm.com/case-studies/vpi/?lnk=hpencs1\nhttps://www.ibm.com/employment/?lnk=flatitem\nhttps://www.ibm.com/employment/?lnk=flatitem\nhttps://research.ibm.com/\nhttps://research.ibm.com/\nhttps://www.ibm.com/impact\nhttps://www.ibm.com/impact\n/uk-en/about\nhttps://www.ibm.com/uk-en/products/?lnk=pr_uken\nhttps://www.ibm.com/software/uk/info/trials/?lnk=STW_UK_HPF_THP_FT_TL&lnk2=goto_THP\nhttps://www.ibm.com/uk-en/marketplace/collections/offers-and-discounts/?lnk=STW_UK_HPF_DISC_FT_TL&lnk2=goto_MPDISC\nhttps://www.ibm.com/technologyservices/uk/en/?lnk=se_uken\nhttps://www.ibm.com/uk-en/industries\nhttps://www.ibm.com/about/innovation-studio\nhttps://www.ibm.com/case-studies\nhttps://www.ibm.com/uk-en/financing\nhttps://www.ibm.com/developerworks/?lnk=fif_uken\nhttps://www.ibm.com/partnerworld/wps/servlet/ContentHandler/partnerworld-home?lnk=fif_uken\nhttps://www.ibm.com/industries/uk/en/CSI/?lnk=fif-uken\nhttps://www.ibm.com/uk-en/consulting?lnk=fco\nhttps://support.ibm.com?lnk=fwc_uken\nhttps://www.ibm.com/partnerworld/wps/bplocator/search.jsp?lnk=fcw-uken\nhttps://www.ibm.com/employment/uk-en/?lnk=mca_uken\nhttps://www.ibm.com/press/uk/en/index.wss?lnk=fab_uken\nhttps://www.ibm.com/investor/?lnk=fab_uken\nhttps://www.ibm.org/?lnk=fab\nhttps://www.ibm.com/ibm/uk/en/?lnk=fab_uken\nhttps://www.ibm.com/data-responsibility/uk-en/brexit\nhttps://www.ibm.com/uk-en/marketing/documents/\nhttps://www.ibm.com/downloads/cas/EG7RMOMG\nhttps://www.ibm.com/downloads/cas/MLB7VPEJ\nhttps://www.ibm.com/contact/uk/en/?lnk=flg-cont-uken\nhttps://www.ibm.com/privacy?lnk=flg-priv-uken\nhttps://www.ibm.com/uk-en/legal?lnk=flg-tous-uken\nhttps://www.ibm.com/able?lnk=flg-able-uken\n#\n",
                    "name": "stdout"
                }
            ]
        },
        {
            "metadata": {},
            "cell_type": "markdown",
            "source": "Scrape  all images\n"
        },
        {
            "metadata": {},
            "cell_type": "code",
            "source": "for link in soup.find_all('img'):# in html image is represented by the tag <img>\n    print(link.get('src'))",
            "execution_count": 8,
            "outputs": [
                {
                    "output_type": "stream",
                    "text": "//1.cms.s81c.com/sites/default/files/2022-11-16/XLG%20-%20IBM%20Consulting%20-%20Overview.jpg\n//1.cms.s81c.com/sites/default/files/2022-11-16/XLG%20-%20IBM%20Consulting%20-%20Strategy.jpg\n//1.cms.s81c.com/sites/default/files/2022-11-16/XLG%20-%20IBM%20Consulting%20-%20Experience.jpg\n//1.cms.s81c.com/sites/default/files/2022-11-16/XLG%20-%20IBM%20Consulting%20-%20Technology.jpg\n//1.cms.s81c.com/sites/default/files/2022-11-16/XLG%20-%20IBM%20Consulting%20-%20Operations.jpg\n//1.cms.s81c.com/sites/default/files/2022-11-16/XLG%20-%20IBM%20Consulting%20-%20Partners.jpg\n//1.cms.s81c.com/sites/default/files/2022-11-16/XLG%20-%20Inside%20IBM%20-%20IBM%20Careers.jpg\n//1.cms.s81c.com/sites/default/files/2022-11-16/XLG%20-%20Inside%20IBM%20-%20Research%20Labs.jpg\n//1.cms.s81c.com/sites/default/files/2022-11-16/XLG%20-%20Inside%20IBM%20-%20Corporate%20Social%20Responsibility.jpg\n",
                    "name": "stdout"
                }
            ]
        },
        {
            "metadata": {},
            "cell_type": "markdown",
            "source": "## Scrape data from html tables\n"
        },
        {
            "metadata": {},
            "cell_type": "code",
            "source": "#The below url contains a html table with data about colors and color codes.",
            "execution_count": null,
            "outputs": []
        },
        {
            "metadata": {},
            "cell_type": "code",
            "source": "url = \"https://cf-courses-data.s3.us.cloud-object-storage.appdomain.cloud/IBM-DA0321EN-SkillsNetwork/labs/datasets/HTMLColorCodes.html\"",
            "execution_count": 9,
            "outputs": []
        },
        {
            "metadata": {},
            "cell_type": "markdown",
            "source": "Before proceeding to scrape a web site, you need to examine the contents, and the way data is organized on the website. Open the above url in your browser and check how many rows and columns are there in the color table.\n"
        },
        {
            "metadata": {},
            "cell_type": "code",
            "source": "# get the contents of the webpage in text format and store in a variable called data\ndata  = requests.get(url).text",
            "execution_count": 10,
            "outputs": []
        },
        {
            "metadata": {},
            "cell_type": "code",
            "source": "soup = BeautifulSoup(data)",
            "execution_count": 12,
            "outputs": []
        },
        {
            "metadata": {},
            "cell_type": "code",
            "source": "#find a html table in the web page\ntable = soup.find('table') # in html table is represented by the tag <table>",
            "execution_count": 13,
            "outputs": []
        },
        {
            "metadata": {},
            "cell_type": "code",
            "source": "#Get all rows from the table\nfor row in table.find_all('tr'): # in html table row is represented by the tag <tr>\n    # Get all columns in each row.\n    cols = row.find_all('td') # in html a column is represented by the tag <td>\n    color_name = cols[2].getText() # store the value in column 3 as color_name\n    color_code = cols[3].getText() # store the value in column 4 as color_code\n    print(\"{}--->{}\".format(color_name,color_code))",
            "execution_count": 14,
            "outputs": [
                {
                    "output_type": "stream",
                    "text": "Color Name--->Hex Code#RRGGBB\nlightsalmon--->#FFA07A\nsalmon--->#FA8072\ndarksalmon--->#E9967A\nlightcoral--->#F08080\ncoral--->#FF7F50\ntomato--->#FF6347\norangered--->#FF4500\ngold--->#FFD700\norange--->#FFA500\ndarkorange--->#FF8C00\nlightyellow--->#FFFFE0\nlemonchiffon--->#FFFACD\npapayawhip--->#FFEFD5\nmoccasin--->#FFE4B5\npeachpuff--->#FFDAB9\npalegoldenrod--->#EEE8AA\nkhaki--->#F0E68C\ndarkkhaki--->#BDB76B\nyellow--->#FFFF00\nlawngreen--->#7CFC00\nchartreuse--->#7FFF00\nlimegreen--->#32CD32\nlime--->#00FF00\nforestgreen--->#228B22\ngreen--->#008000\npowderblue--->#B0E0E6\nlightblue--->#ADD8E6\nlightskyblue--->#87CEFA\nskyblue--->#87CEEB\ndeepskyblue--->#00BFFF\nlightsteelblue--->#B0C4DE\ndodgerblue--->#1E90FF\n",
                    "name": "stdout"
                }
            ]
        },
        {
            "metadata": {},
            "cell_type": "markdown",
            "source": "## Authors\n"
        },
        {
            "metadata": {},
            "cell_type": "markdown",
            "source": "Ramesh Sannareddy\n"
        },
        {
            "metadata": {},
            "cell_type": "markdown",
            "source": "### Other Contributors\n"
        },
        {
            "metadata": {},
            "cell_type": "markdown",
            "source": "Rav Ahuja\n"
        },
        {
            "metadata": {},
            "cell_type": "markdown",
            "source": "## Change Log\n"
        },
        {
            "metadata": {},
            "cell_type": "markdown",
            "source": "|  Date (YYYY-MM-DD) |  Version | Changed By  |  Change Description |\n|---|---|---|---|\n| 2020-10-17  | 0.1  | Ramesh Sannareddy  |  Created initial version of the lab |\n"
        },
        {
            "metadata": {},
            "cell_type": "markdown",
            "source": " Copyright &copy; 2020 IBM Corporation. This notebook and its source code are released under the terms of the [MIT License](https://cognitiveclass.ai/mit-license/?utm_medium=Exinfluencer&utm_source=Exinfluencer&utm_content=000026UJ&utm_term=10006555&utm_id=NA-SkillsNetwork-Channel-SkillsNetworkCoursesIBMDA0321ENSkillsNetwork928-2022-01-01).\n"
        }
    ],
    "metadata": {
        "kernelspec": {
            "name": "python3",
            "display_name": "Python 3.10",
            "language": "python"
        },
        "language_info": {
            "name": "python",
            "version": "3.10.6",
            "mimetype": "text/x-python",
            "codemirror_mode": {
                "name": "ipython",
                "version": 3
            },
            "pygments_lexer": "ipython3",
            "nbconvert_exporter": "python",
            "file_extension": ".py"
        }
    },
    "nbformat": 4,
    "nbformat_minor": 4
}